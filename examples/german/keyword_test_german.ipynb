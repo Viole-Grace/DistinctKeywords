{
 "cells": [
  {
   "cell_type": "code",
   "execution_count": 2,
   "metadata": {},
   "outputs": [],
   "source": [
    "from distinct_keywords.keywords import DistinctKeywords "
   ]
  },
  {
   "cell_type": "code",
   "execution_count": null,
   "metadata": {},
   "outputs": [],
   "source": [
    "distinct_keywords=DistinctKeywords(keyword_dictionary_file='hilbert_lookup_dictionary_de_300.pickle.gz',\n",
    "keyword_processor_file='keyword_processor_de.pickle.gz',stop_words_set_file='stopwords_de.pickle'\n",
    ")"
   ]
  },
  {
   "cell_type": "code",
   "execution_count": 13,
   "metadata": {},
   "outputs": [],
   "source": [
    "doc = \"\"\"\n",
    "        Maschinelles Lernen ist ein Oberbegriff für die „künstliche“ Generierung von Wissen aus Erfahrung: \n",
    "        Ein künstliches System lernt aus Beispielen und kann diese nach Beendigung der Lernphase verallgemeinern. \n",
    "        Dazu bauen Algorithmen beim maschinellen Lernen ein statistisches Modell auf, das auf Trainingsdaten beruht. \n",
    "        Das heißt, es werden nicht einfach die Beispiele auswendig gelernt, sondern Muster und Gesetzmäßigkeiten in den Lerndaten erkannt. \n",
    "        So kann das System auch unbekannte Daten beurteilen (Lerntransfer) oder aber am Lernen unbekannter Daten scheitern (Überanpassung; englisch overfitting).\n",
    "        [1][2] Aus dem weiten Spektrum möglicher Anwendungen seien hier genannt: automatisierte Diagnose­verfahren, \n",
    "        Erkennung von Kreditkartenbetrug, Aktienmarkt­analysen, Klassifikation von Nukleotidsequenzen, Sprach- und Texterkennung sowie autonome Systeme.\n",
    "\n",
    "        Das Thema ist eng verwandt mit „Knowledge Discovery in Databases“ und „Data-Mining“, bei dem es jedoch vorwiegend um das \n",
    "        Finden von neuen Mustern und Gesetzmäßigkeiten geht. Viele Algorithmen können für beide Zwecke verwendet werden. \n",
    "        Methoden der „Knowledge Discovery in Databases“ können genutzt werden, um Lerndaten für „maschinelles Lernen“ zu \n",
    "        produzieren oder vorzuverarbeiten. Im Gegenzug dazu finden Algorithmen aus dem maschinellen Lernen beim Data-Mining Anwendung. \n",
    "        Zu unterscheiden ist der Begriff zudem von dem Begriff „Deep Learning“, welches nur eine mögliche Lernvariante mittels künstlicher neuronaler Netze darstellt.\n",
    "\n",
    "        Das Schließen von Daten auf (hypothetische) Modelle wird als Statistische Inferenz bezeichnet. \n",
    "      \"\"\"\n"
   ]
  },
  {
   "cell_type": "code",
   "execution_count": 15,
   "metadata": {},
   "outputs": [
    {
     "data": {
      "text/plain": [
       "['lernt',\n",
       " 'scheitern',\n",
       " 'Zwecke verwendet',\n",
       " 'vorwiegend',\n",
       " 'verallgemeinern',\n",
       " 'begriff',\n",
       " 'unterscheiden',\n",
       " 'verfahren',\n",
       " 'hypothetische',\n",
       " 'maschinelles',\n",
       " 'darstellt',\n",
       " 'produzieren',\n",
       " 'auswendig gelernt',\n",
       " 'unbekannter',\n",
       " 'weiten']"
      ]
     },
     "execution_count": 15,
     "metadata": {},
     "output_type": "execute_result"
    }
   ],
   "source": [
    "distinct_keywords.get_keywords(doc,include_proper_nouns=False) # include proper nouns is not tested for German"
   ]
  },
  {
   "cell_type": "code",
   "execution_count": null,
   "metadata": {},
   "outputs": [],
   "source": []
  }
 ],
 "metadata": {
  "interpreter": {
   "hash": "baebee85a6a5ce183746db7cbadba59f5359f85ffa5f21f19dadb99a211b8bb3"
  },
  "kernelspec": {
   "display_name": "Python 3.8.12 ('nlp-1')",
   "language": "python",
   "name": "python3"
  },
  "language_info": {
   "codemirror_mode": {
    "name": "ipython",
    "version": 3
   },
   "file_extension": ".py",
   "mimetype": "text/x-python",
   "name": "python",
   "nbconvert_exporter": "python",
   "pygments_lexer": "ipython3",
   "version": "3.8.12"
  },
  "orig_nbformat": 4
 },
 "nbformat": 4,
 "nbformat_minor": 2
}
